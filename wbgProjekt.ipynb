{
 "cells": [
  {
   "cell_type": "markdown",
   "metadata": {},
   "source": [
    "# 1. Domain Problem und Data Collection "
   ]
  },
  {
   "cell_type": "code",
   "execution_count": 511,
   "metadata": {},
   "outputs": [],
   "source": [
    "import pandas as pd\n",
    "import numpy as np"
   ]
  },
  {
   "cell_type": "code",
   "execution_count": 512,
   "metadata": {},
   "outputs": [
    {
     "data": {
      "text/html": [
       "<div>\n",
       "<style scoped>\n",
       "    .dataframe tbody tr th:only-of-type {\n",
       "        vertical-align: middle;\n",
       "    }\n",
       "\n",
       "    .dataframe tbody tr th {\n",
       "        vertical-align: top;\n",
       "    }\n",
       "\n",
       "    .dataframe thead th {\n",
       "        text-align: right;\n",
       "    }\n",
       "</style>\n",
       "<table border=\"1\" class=\"dataframe\">\n",
       "  <thead>\n",
       "    <tr style=\"text-align: right;\">\n",
       "      <th></th>\n",
       "      <th>Einheit</th>\n",
       "      <th>Haus</th>\n",
       "      <th>Wohnung</th>\n",
       "      <th>Wohngebiet</th>\n",
       "      <th>Geschoss</th>\n",
       "      <th>Wohnfläche</th>\n",
       "      <th>Raumanzahl</th>\n",
       "      <th>Dusche</th>\n",
       "      <th>Wanne</th>\n",
       "      <th>Aufzug</th>\n",
       "      <th>Balkon/Terasse</th>\n",
       "      <th>Einstufung Mietkosten</th>\n",
       "      <th>Geschlecht</th>\n",
       "      <th>Einzug</th>\n",
       "      <th>Wohndauer in Monaten</th>\n",
       "      <th>Altereinstufung</th>\n",
       "      <th>Personenanzahl</th>\n",
       "      <th>Haustier</th>\n",
       "      <th>Mahnverfahren</th>\n",
       "    </tr>\n",
       "  </thead>\n",
       "  <tbody>\n",
       "    <tr>\n",
       "      <th>0</th>\n",
       "      <td>163</td>\n",
       "      <td>5</td>\n",
       "      <td>49</td>\n",
       "      <td>Innenstadt</td>\n",
       "      <td>Erdgeschoss</td>\n",
       "      <td>74.19</td>\n",
       "      <td>3</td>\n",
       "      <td>ja</td>\n",
       "      <td>nein</td>\n",
       "      <td>nein</td>\n",
       "      <td>ja</td>\n",
       "      <td>3</td>\n",
       "      <td>W</td>\n",
       "      <td>05/01/19</td>\n",
       "      <td>40.0</td>\n",
       "      <td>5</td>\n",
       "      <td>1</td>\n",
       "      <td>nein</td>\n",
       "      <td>nein</td>\n",
       "    </tr>\n",
       "    <tr>\n",
       "      <th>1</th>\n",
       "      <td>163</td>\n",
       "      <td>5</td>\n",
       "      <td>49</td>\n",
       "      <td>Innenstadt</td>\n",
       "      <td>Erdgeschoss</td>\n",
       "      <td>74.19</td>\n",
       "      <td>3</td>\n",
       "      <td>ja</td>\n",
       "      <td>nein</td>\n",
       "      <td>nein</td>\n",
       "      <td>ja</td>\n",
       "      <td>4</td>\n",
       "      <td>W</td>\n",
       "      <td>10/01/23</td>\n",
       "      <td>2.0</td>\n",
       "      <td>4</td>\n",
       "      <td>2</td>\n",
       "      <td>nein</td>\n",
       "      <td>nein</td>\n",
       "    </tr>\n",
       "    <tr>\n",
       "      <th>2</th>\n",
       "      <td>56</td>\n",
       "      <td>2</td>\n",
       "      <td>11</td>\n",
       "      <td>Innenstadt</td>\n",
       "      <td>Erdgeschoss</td>\n",
       "      <td>71.82</td>\n",
       "      <td>3</td>\n",
       "      <td>nein</td>\n",
       "      <td>ja</td>\n",
       "      <td>nein</td>\n",
       "      <td>ja</td>\n",
       "      <td>3</td>\n",
       "      <td>M</td>\n",
       "      <td>07/01/14</td>\n",
       "      <td>69.0</td>\n",
       "      <td>2</td>\n",
       "      <td>1</td>\n",
       "      <td>ja</td>\n",
       "      <td>nein</td>\n",
       "    </tr>\n",
       "    <tr>\n",
       "      <th>3</th>\n",
       "      <td>56</td>\n",
       "      <td>2</td>\n",
       "      <td>11</td>\n",
       "      <td>Innenstadt</td>\n",
       "      <td>Erdgeschoss</td>\n",
       "      <td>71.82</td>\n",
       "      <td>3</td>\n",
       "      <td>nein</td>\n",
       "      <td>ja</td>\n",
       "      <td>nein</td>\n",
       "      <td>ja</td>\n",
       "      <td>3</td>\n",
       "      <td>M</td>\n",
       "      <td>09/01/20</td>\n",
       "      <td>39.0</td>\n",
       "      <td>4</td>\n",
       "      <td>2</td>\n",
       "      <td>nein</td>\n",
       "      <td>nein</td>\n",
       "    </tr>\n",
       "    <tr>\n",
       "      <th>4</th>\n",
       "      <td>76</td>\n",
       "      <td>3</td>\n",
       "      <td>33</td>\n",
       "      <td>Innenstadt</td>\n",
       "      <td>1. Obergeschoss</td>\n",
       "      <td>53.06</td>\n",
       "      <td>2</td>\n",
       "      <td>nein</td>\n",
       "      <td>ja</td>\n",
       "      <td>nein</td>\n",
       "      <td>ja</td>\n",
       "      <td>2</td>\n",
       "      <td>M</td>\n",
       "      <td>04/01/17</td>\n",
       "      <td>80.0</td>\n",
       "      <td>3</td>\n",
       "      <td>1</td>\n",
       "      <td>nein</td>\n",
       "      <td>nein</td>\n",
       "    </tr>\n",
       "    <tr>\n",
       "      <th>5</th>\n",
       "      <td>174</td>\n",
       "      <td>1</td>\n",
       "      <td>18</td>\n",
       "      <td>Innenstadt</td>\n",
       "      <td>1. Obergeschoss</td>\n",
       "      <td>48.34</td>\n",
       "      <td>2</td>\n",
       "      <td>ja</td>\n",
       "      <td>nein</td>\n",
       "      <td>nein</td>\n",
       "      <td>nein</td>\n",
       "      <td>2</td>\n",
       "      <td>M</td>\n",
       "      <td>07/01/16</td>\n",
       "      <td>89.0</td>\n",
       "      <td>2</td>\n",
       "      <td>1</td>\n",
       "      <td>nein</td>\n",
       "      <td>nein</td>\n",
       "    </tr>\n",
       "    <tr>\n",
       "      <th>6</th>\n",
       "      <td>213</td>\n",
       "      <td>3</td>\n",
       "      <td>30</td>\n",
       "      <td>Innenstadt</td>\n",
       "      <td>2. Obergeschoss</td>\n",
       "      <td>53.06</td>\n",
       "      <td>2</td>\n",
       "      <td>nein</td>\n",
       "      <td>ja</td>\n",
       "      <td>nein</td>\n",
       "      <td>ja</td>\n",
       "      <td>2</td>\n",
       "      <td>M</td>\n",
       "      <td>07/01/00</td>\n",
       "      <td>281.0</td>\n",
       "      <td>4</td>\n",
       "      <td>2</td>\n",
       "      <td>nein</td>\n",
       "      <td>nein</td>\n",
       "    </tr>\n",
       "    <tr>\n",
       "      <th>7</th>\n",
       "      <td>7</td>\n",
       "      <td>2</td>\n",
       "      <td>9</td>\n",
       "      <td>Innenstadt</td>\n",
       "      <td>2. Obergeschoss</td>\n",
       "      <td>48.34</td>\n",
       "      <td>2</td>\n",
       "      <td>nein</td>\n",
       "      <td>ja</td>\n",
       "      <td>nein</td>\n",
       "      <td>nein</td>\n",
       "      <td>2</td>\n",
       "      <td>W</td>\n",
       "      <td>09/01/13</td>\n",
       "      <td>123.0</td>\n",
       "      <td>2</td>\n",
       "      <td>1</td>\n",
       "      <td>ja</td>\n",
       "      <td>ja</td>\n",
       "    </tr>\n",
       "    <tr>\n",
       "      <th>8</th>\n",
       "      <td>51</td>\n",
       "      <td>1</td>\n",
       "      <td>7</td>\n",
       "      <td>Innenstadt</td>\n",
       "      <td>2. Obergeschoss</td>\n",
       "      <td>51.24</td>\n",
       "      <td>2</td>\n",
       "      <td>nein</td>\n",
       "      <td>ja</td>\n",
       "      <td>nein</td>\n",
       "      <td>ja</td>\n",
       "      <td>2</td>\n",
       "      <td>W</td>\n",
       "      <td>01/01/05</td>\n",
       "      <td>203.0</td>\n",
       "      <td>4</td>\n",
       "      <td>2</td>\n",
       "      <td>nein</td>\n",
       "      <td>nein</td>\n",
       "    </tr>\n",
       "    <tr>\n",
       "      <th>9</th>\n",
       "      <td>51</td>\n",
       "      <td>1</td>\n",
       "      <td>7</td>\n",
       "      <td>Innenstadt</td>\n",
       "      <td>2. Obergeschoss</td>\n",
       "      <td>51.24</td>\n",
       "      <td>2</td>\n",
       "      <td>nein</td>\n",
       "      <td>ja</td>\n",
       "      <td>nein</td>\n",
       "      <td>ja</td>\n",
       "      <td>2</td>\n",
       "      <td>W</td>\n",
       "      <td>07/01/22</td>\n",
       "      <td>17.0</td>\n",
       "      <td>3</td>\n",
       "      <td>1</td>\n",
       "      <td>nein</td>\n",
       "      <td>nein</td>\n",
       "    </tr>\n",
       "  </tbody>\n",
       "</table>\n",
       "</div>"
      ],
      "text/plain": [
       "   Einheit  Haus  Wohnung  Wohngebiet         Geschoss  Wohnfläche  \\\n",
       "0      163     5       49  Innenstadt      Erdgeschoss       74.19   \n",
       "1      163     5       49  Innenstadt      Erdgeschoss       74.19   \n",
       "2       56     2       11  Innenstadt      Erdgeschoss       71.82   \n",
       "3       56     2       11  Innenstadt      Erdgeschoss       71.82   \n",
       "4       76     3       33  Innenstadt  1. Obergeschoss       53.06   \n",
       "5      174     1       18  Innenstadt  1. Obergeschoss       48.34   \n",
       "6      213     3       30  Innenstadt  2. Obergeschoss       53.06   \n",
       "7        7     2        9  Innenstadt  2. Obergeschoss       48.34   \n",
       "8       51     1        7  Innenstadt  2. Obergeschoss       51.24   \n",
       "9       51     1        7  Innenstadt  2. Obergeschoss       51.24   \n",
       "\n",
       "   Raumanzahl Dusche Wanne Aufzug Balkon/Terasse Einstufung Mietkosten  \\\n",
       "0           3     ja  nein   nein             ja                     3   \n",
       "1           3     ja  nein   nein             ja                     4   \n",
       "2           3   nein    ja   nein             ja                     3   \n",
       "3           3   nein    ja   nein             ja                     3   \n",
       "4           2   nein    ja   nein             ja                     2   \n",
       "5           2     ja  nein   nein           nein                     2   \n",
       "6           2   nein    ja   nein             ja                     2   \n",
       "7           2   nein    ja   nein           nein                     2   \n",
       "8           2   nein    ja   nein             ja                     2   \n",
       "9           2   nein    ja   nein             ja                     2   \n",
       "\n",
       "  Geschlecht    Einzug  Wohndauer in Monaten Altereinstufung  Personenanzahl  \\\n",
       "0          W  05/01/19                  40.0               5               1   \n",
       "1          W  10/01/23                   2.0               4               2   \n",
       "2          M  07/01/14                  69.0               2               1   \n",
       "3          M  09/01/20                  39.0               4               2   \n",
       "4          M  04/01/17                  80.0               3               1   \n",
       "5          M  07/01/16                  89.0               2               1   \n",
       "6          M  07/01/00                 281.0               4               2   \n",
       "7          W  09/01/13                 123.0               2               1   \n",
       "8          W  01/01/05                 203.0               4               2   \n",
       "9          W  07/01/22                  17.0               3               1   \n",
       "\n",
       "  Haustier Mahnverfahren  \n",
       "0     nein          nein  \n",
       "1     nein          nein  \n",
       "2       ja          nein  \n",
       "3     nein          nein  \n",
       "4     nein          nein  \n",
       "5     nein          nein  \n",
       "6     nein          nein  \n",
       "7       ja            ja  \n",
       "8     nein          nein  \n",
       "9     nein          nein  "
      ]
     },
     "execution_count": 512,
     "metadata": {},
     "output_type": "execute_result"
    }
   ],
   "source": [
    "# Liest die Excel-Datei ein\n",
    "df = pd.read_excel('wohnung_datensatz.xlsx')\n",
    "\n",
    "df.head(10)"
   ]
  },
  {
   "cell_type": "code",
   "execution_count": 513,
   "metadata": {},
   "outputs": [
    {
     "name": "stdout",
     "output_type": "stream",
     "text": [
      "<class 'pandas.core.frame.DataFrame'>\n",
      "RangeIndex: 8403 entries, 0 to 8402\n",
      "Data columns (total 19 columns):\n",
      " #   Column                 Non-Null Count  Dtype  \n",
      "---  ------                 --------------  -----  \n",
      " 0   Einheit                8403 non-null   int64  \n",
      " 1   Haus                   8403 non-null   int64  \n",
      " 2   Wohnung                8403 non-null   int64  \n",
      " 3   Wohngebiet             8403 non-null   object \n",
      " 4   Geschoss               8403 non-null   object \n",
      " 5   Wohnfläche             8403 non-null   float64\n",
      " 6   Raumanzahl             8403 non-null   int64  \n",
      " 7   Dusche                 8403 non-null   object \n",
      " 8   Wanne                  8403 non-null   object \n",
      " 9   Aufzug                 8403 non-null   object \n",
      " 10  Balkon/Terasse         8403 non-null   object \n",
      " 11  Einstufung Mietkosten  8403 non-null   object \n",
      " 12  Geschlecht             8403 non-null   object \n",
      " 13  Einzug                 8403 non-null   object \n",
      " 14  Wohndauer in Monaten   8359 non-null   float64\n",
      " 15  Altereinstufung        8403 non-null   object \n",
      " 16  Personenanzahl         8403 non-null   int64  \n",
      " 17  Haustier               8403 non-null   object \n",
      " 18  Mahnverfahren          8403 non-null   object \n",
      "dtypes: float64(2), int64(5), object(12)\n",
      "memory usage: 1.2+ MB\n"
     ]
    }
   ],
   "source": [
    "df.info()"
   ]
  },
  {
   "cell_type": "code",
   "execution_count": 514,
   "metadata": {},
   "outputs": [
    {
     "data": {
      "text/html": [
       "<div>\n",
       "<style scoped>\n",
       "    .dataframe tbody tr th:only-of-type {\n",
       "        vertical-align: middle;\n",
       "    }\n",
       "\n",
       "    .dataframe tbody tr th {\n",
       "        vertical-align: top;\n",
       "    }\n",
       "\n",
       "    .dataframe thead th {\n",
       "        text-align: right;\n",
       "    }\n",
       "</style>\n",
       "<table border=\"1\" class=\"dataframe\">\n",
       "  <thead>\n",
       "    <tr style=\"text-align: right;\">\n",
       "      <th></th>\n",
       "      <th>Einheit</th>\n",
       "      <th>Haus</th>\n",
       "      <th>Wohnung</th>\n",
       "      <th>Wohnfläche</th>\n",
       "      <th>Raumanzahl</th>\n",
       "      <th>Wohndauer in Monaten</th>\n",
       "      <th>Personenanzahl</th>\n",
       "    </tr>\n",
       "  </thead>\n",
       "  <tbody>\n",
       "    <tr>\n",
       "      <th>count</th>\n",
       "      <td>8403.000000</td>\n",
       "      <td>8403.000000</td>\n",
       "      <td>8403.000000</td>\n",
       "      <td>8403.000000</td>\n",
       "      <td>8403.000000</td>\n",
       "      <td>8359.000000</td>\n",
       "      <td>8403.000000</td>\n",
       "    </tr>\n",
       "    <tr>\n",
       "      <th>mean</th>\n",
       "      <td>117.621088</td>\n",
       "      <td>2.685826</td>\n",
       "      <td>28.148399</td>\n",
       "      <td>57.886800</td>\n",
       "      <td>2.626681</td>\n",
       "      <td>175.574949</td>\n",
       "      <td>1.555873</td>\n",
       "    </tr>\n",
       "    <tr>\n",
       "      <th>std</th>\n",
       "      <td>58.574120</td>\n",
       "      <td>1.689494</td>\n",
       "      <td>27.635865</td>\n",
       "      <td>12.192696</td>\n",
       "      <td>0.719363</td>\n",
       "      <td>194.360779</td>\n",
       "      <td>0.843681</td>\n",
       "    </tr>\n",
       "    <tr>\n",
       "      <th>min</th>\n",
       "      <td>1.000000</td>\n",
       "      <td>1.000000</td>\n",
       "      <td>1.000000</td>\n",
       "      <td>28.380000</td>\n",
       "      <td>1.000000</td>\n",
       "      <td>-4.000000</td>\n",
       "      <td>1.000000</td>\n",
       "    </tr>\n",
       "    <tr>\n",
       "      <th>25%</th>\n",
       "      <td>79.000000</td>\n",
       "      <td>1.000000</td>\n",
       "      <td>10.000000</td>\n",
       "      <td>49.680000</td>\n",
       "      <td>2.000000</td>\n",
       "      <td>36.000000</td>\n",
       "      <td>1.000000</td>\n",
       "    </tr>\n",
       "    <tr>\n",
       "      <th>50%</th>\n",
       "      <td>117.000000</td>\n",
       "      <td>2.000000</td>\n",
       "      <td>21.000000</td>\n",
       "      <td>58.940000</td>\n",
       "      <td>3.000000</td>\n",
       "      <td>101.000000</td>\n",
       "      <td>1.000000</td>\n",
       "    </tr>\n",
       "    <tr>\n",
       "      <th>75%</th>\n",
       "      <td>150.000000</td>\n",
       "      <td>4.000000</td>\n",
       "      <td>35.000000</td>\n",
       "      <td>61.130000</td>\n",
       "      <td>3.000000</td>\n",
       "      <td>235.000000</td>\n",
       "      <td>2.000000</td>\n",
       "    </tr>\n",
       "    <tr>\n",
       "      <th>max</th>\n",
       "      <td>353.000000</td>\n",
       "      <td>11.000000</td>\n",
       "      <td>162.000000</td>\n",
       "      <td>165.480000</td>\n",
       "      <td>8.000000</td>\n",
       "      <td>813.000000</td>\n",
       "      <td>12.000000</td>\n",
       "    </tr>\n",
       "  </tbody>\n",
       "</table>\n",
       "</div>"
      ],
      "text/plain": [
       "           Einheit         Haus      Wohnung   Wohnfläche   Raumanzahl  \\\n",
       "count  8403.000000  8403.000000  8403.000000  8403.000000  8403.000000   \n",
       "mean    117.621088     2.685826    28.148399    57.886800     2.626681   \n",
       "std      58.574120     1.689494    27.635865    12.192696     0.719363   \n",
       "min       1.000000     1.000000     1.000000    28.380000     1.000000   \n",
       "25%      79.000000     1.000000    10.000000    49.680000     2.000000   \n",
       "50%     117.000000     2.000000    21.000000    58.940000     3.000000   \n",
       "75%     150.000000     4.000000    35.000000    61.130000     3.000000   \n",
       "max     353.000000    11.000000   162.000000   165.480000     8.000000   \n",
       "\n",
       "       Wohndauer in Monaten  Personenanzahl  \n",
       "count           8359.000000     8403.000000  \n",
       "mean             175.574949        1.555873  \n",
       "std              194.360779        0.843681  \n",
       "min               -4.000000        1.000000  \n",
       "25%               36.000000        1.000000  \n",
       "50%              101.000000        1.000000  \n",
       "75%              235.000000        2.000000  \n",
       "max              813.000000       12.000000  "
      ]
     },
     "execution_count": 514,
     "metadata": {},
     "output_type": "execute_result"
    }
   ],
   "source": [
    "df.describe()"
   ]
  },
  {
   "cell_type": "markdown",
   "metadata": {},
   "source": [
    "# 2.1 Feature Engineering -Data cleaning and pre-processing "
   ]
  },
  {
   "cell_type": "markdown",
   "metadata": {},
   "source": [
    "Eine Bereinigung wäre notwendig, weil es in der Spalte Wohndauer in Monaten sowohl 0 als auch negativen Werten besteht."
   ]
  },
  {
   "cell_type": "code",
   "execution_count": 515,
   "metadata": {},
   "outputs": [
    {
     "name": "stdout",
     "output_type": "stream",
     "text": [
      "44\n"
     ]
    }
   ],
   "source": [
    "summe_von_NA_wohndauer = df['Wohndauer in Monaten'].isna().sum()\n",
    "\n",
    "print(summe_von_NA_wohndauer)"
   ]
  },
  {
   "cell_type": "code",
   "execution_count": 516,
   "metadata": {},
   "outputs": [
    {
     "name": "stdout",
     "output_type": "stream",
     "text": [
      "Summe von Zeilen mit den negativen Werten in der Wohndauer in Monaten:\n",
      "103\n"
     ]
    }
   ],
   "source": [
    "negative_zeilen_von_wohndauer = df['Wohndauer in Monaten'] < 0\n",
    "\n",
    "print(\"Summe von Zeilen mit den negativen Werten in der Wohndauer in Monaten:\")\n",
    "print(negative_zeilen_von_wohndauer.sum())"
   ]
  },
  {
   "cell_type": "code",
   "execution_count": 517,
   "metadata": {},
   "outputs": [
    {
     "name": "stdout",
     "output_type": "stream",
     "text": [
      "147\n"
     ]
    }
   ],
   "source": [
    "df.loc[negative_zeilen_von_wohndauer, 'Wohndauer in Monaten'] = np.nan\n",
    "print(df['Wohndauer in Monaten'].isna().sum())"
   ]
  },
  {
   "cell_type": "code",
   "execution_count": 518,
   "metadata": {},
   "outputs": [
    {
     "name": "stdout",
     "output_type": "stream",
     "text": [
      "Einstufung Mietkosten     25\n",
      "Altereinstufung          196\n",
      "dtype: int64\n"
     ]
    }
   ],
   "source": [
    "summe_von_N_zeilen = (df[['Einstufung Mietkosten', 'Altereinstufung']] == '\\\\N').sum()\n",
    "print(summe_von_N_zeilen)"
   ]
  },
  {
   "cell_type": "code",
   "execution_count": 519,
   "metadata": {},
   "outputs": [
    {
     "name": "stderr",
     "output_type": "stream",
     "text": [
      "C:\\Users\\Yama Saputra\\AppData\\Local\\Temp\\ipykernel_13084\\2896708572.py:1: FutureWarning: Downcasting behavior in `replace` is deprecated and will be removed in a future version. To retain the old behavior, explicitly call `result.infer_objects(copy=False)`. To opt-in to the future behavior, set `pd.set_option('future.no_silent_downcasting', True)`\n",
      "  df.replace('\\\\N', np.nan, inplace=True)\n"
     ]
    }
   ],
   "source": [
    "df.replace('\\\\N', np.nan, inplace=True)"
   ]
  },
  {
   "cell_type": "code",
   "execution_count": 520,
   "metadata": {},
   "outputs": [
    {
     "data": {
      "text/plain": [
       "Einheit                    0\n",
       "Haus                       0\n",
       "Wohnung                    0\n",
       "Wohngebiet                 0\n",
       "Geschoss                   0\n",
       "Wohnfläche                 0\n",
       "Raumanzahl                 0\n",
       "Dusche                     0\n",
       "Wanne                      0\n",
       "Aufzug                     0\n",
       "Balkon/Terasse             0\n",
       "Einstufung Mietkosten     25\n",
       "Geschlecht                 0\n",
       "Einzug                     0\n",
       "Wohndauer in Monaten     147\n",
       "Altereinstufung          196\n",
       "Personenanzahl             0\n",
       "Haustier                   0\n",
       "Mahnverfahren              0\n",
       "dtype: int64"
      ]
     },
     "execution_count": 520,
     "metadata": {},
     "output_type": "execute_result"
    }
   ],
   "source": [
    "df.isnull().sum()"
   ]
  },
  {
   "cell_type": "code",
   "execution_count": 521,
   "metadata": {},
   "outputs": [
    {
     "data": {
      "text/plain": [
       "Einheit                    0\n",
       "Haus                       0\n",
       "Wohnung                    0\n",
       "Wohngebiet                 0\n",
       "Geschoss                   0\n",
       "Wohnfläche                 0\n",
       "Raumanzahl                 0\n",
       "Dusche                     0\n",
       "Wanne                      0\n",
       "Aufzug                     0\n",
       "Balkon/Terasse             0\n",
       "Einstufung Mietkosten      0\n",
       "Geschlecht                 0\n",
       "Einzug                     0\n",
       "Wohndauer in Monaten     145\n",
       "Altereinstufung            0\n",
       "Personenanzahl             0\n",
       "Haustier                   0\n",
       "Mahnverfahren              0\n",
       "dtype: int64"
      ]
     },
     "execution_count": 521,
     "metadata": {},
     "output_type": "execute_result"
    }
   ],
   "source": [
    "df_bereinigt = df.dropna(subset=['Altereinstufung', 'Einstufung Mietkosten'])\n",
    "\n",
    "df_bereinigt.isnull().sum()"
   ]
  },
  {
   "cell_type": "code",
   "execution_count": 522,
   "metadata": {},
   "outputs": [
    {
     "name": "stdout",
     "output_type": "stream",
     "text": [
      "145\n"
     ]
    }
   ],
   "source": [
    "wohndauer_in_monaten_NA = df_bereinigt['Wohndauer in Monaten'].isna().sum()\n",
    "print(wohndauer_in_monaten_NA)"
   ]
  },
  {
   "cell_type": "markdown",
   "metadata": {},
   "source": [
    "- Diese Zeilen werden später zum Testdaten hinzugefügt."
   ]
  },
  {
   "cell_type": "code",
   "execution_count": 523,
   "metadata": {},
   "outputs": [
    {
     "name": "stdout",
     "output_type": "stream",
     "text": [
      "<class 'pandas.core.frame.DataFrame'>\n",
      "Index: 8182 entries, 0 to 8402\n",
      "Data columns (total 19 columns):\n",
      " #   Column                 Non-Null Count  Dtype  \n",
      "---  ------                 --------------  -----  \n",
      " 0   Einheit                8182 non-null   int64  \n",
      " 1   Haus                   8182 non-null   int64  \n",
      " 2   Wohnung                8182 non-null   int64  \n",
      " 3   Wohngebiet             8182 non-null   object \n",
      " 4   Geschoss               8182 non-null   object \n",
      " 5   Wohnfläche             8182 non-null   float64\n",
      " 6   Raumanzahl             8182 non-null   int64  \n",
      " 7   Dusche                 8182 non-null   object \n",
      " 8   Wanne                  8182 non-null   object \n",
      " 9   Aufzug                 8182 non-null   object \n",
      " 10  Balkon/Terasse         8182 non-null   object \n",
      " 11  Einstufung Mietkosten  8182 non-null   float64\n",
      " 12  Geschlecht             8182 non-null   object \n",
      " 13  Einzug                 8182 non-null   object \n",
      " 14  Wohndauer in Monaten   8037 non-null   float64\n",
      " 15  Altereinstufung        8182 non-null   float64\n",
      " 16  Personenanzahl         8182 non-null   int64  \n",
      " 17  Haustier               8182 non-null   object \n",
      " 18  Mahnverfahren          8182 non-null   object \n",
      "dtypes: float64(4), int64(5), object(10)\n",
      "memory usage: 1.2+ MB\n"
     ]
    }
   ],
   "source": [
    "df_bereinigt.info()"
   ]
  },
  {
   "cell_type": "markdown",
   "metadata": {},
   "source": [
    "# Feature Selection 30 %"
   ]
  },
  {
   "cell_type": "markdown",
   "metadata": {},
   "source": [
    "- Altereinstufung\n",
    "- Einstufung Mietkosten\n",
    "- Personenanzahl\n",
    "- Wohngebiet\n",
    "- Wohnfläche\n",
    "- Raumanzahl\n",
    "- Einzug\n",
    "- Haustier\n",
    "- Geschoss\n",
    "- Wohnfläche\n",
    "- Raumanzahl\n",
    "- Aufzug\n",
    "- Balkon/terasse\n",
    "- Geschlecht\n",
    "- Mahnverfahren\n",
    "\n",
    "sind die Hauptvariablen.\n",
    "\n",
    "- Wohndauer in Monaten \n",
    "\n",
    "ist die Zielvariable."
   ]
  },
  {
   "cell_type": "code",
   "execution_count": 524,
   "metadata": {},
   "outputs": [
    {
     "ename": "AttributeError",
     "evalue": "Can only use .dt accessor with datetimelike values",
     "output_type": "error",
     "traceback": [
      "\u001b[1;31m---------------------------------------------------------------------------\u001b[0m",
      "\u001b[1;31mAttributeError\u001b[0m                            Traceback (most recent call last)",
      "Cell \u001b[1;32mIn[524], line 2\u001b[0m\n\u001b[0;32m      1\u001b[0m df_bereinigt\u001b[38;5;241m.\u001b[39mloc[:, \u001b[38;5;124m'\u001b[39m\u001b[38;5;124mEinzug\u001b[39m\u001b[38;5;124m'\u001b[39m] \u001b[38;5;241m=\u001b[39m pd\u001b[38;5;241m.\u001b[39mto_datetime(df_bereinigt[\u001b[38;5;124m'\u001b[39m\u001b[38;5;124mEinzug\u001b[39m\u001b[38;5;124m'\u001b[39m], \u001b[38;5;28mformat\u001b[39m\u001b[38;5;241m=\u001b[39m\u001b[38;5;124m'\u001b[39m\u001b[38;5;132;01m%d\u001b[39;00m\u001b[38;5;124m/\u001b[39m\u001b[38;5;124m%\u001b[39m\u001b[38;5;124mm/\u001b[39m\u001b[38;5;124m%\u001b[39m\u001b[38;5;124my\u001b[39m\u001b[38;5;124m'\u001b[39m)\n\u001b[1;32m----> 2\u001b[0m df_bereinigt\u001b[38;5;241m.\u001b[39mloc[:, \u001b[38;5;124m'\u001b[39m\u001b[38;5;124mEinzug\u001b[39m\u001b[38;5;124m'\u001b[39m] \u001b[38;5;241m=\u001b[39m \u001b[43mdf_bereinigt\u001b[49m\u001b[43m[\u001b[49m\u001b[38;5;124;43m'\u001b[39;49m\u001b[38;5;124;43mEinzug\u001b[39;49m\u001b[38;5;124;43m'\u001b[39;49m\u001b[43m]\u001b[49m\u001b[38;5;241;43m.\u001b[39;49m\u001b[43mdt\u001b[49m\u001b[38;5;241m.\u001b[39myear \u001b[38;5;241m*\u001b[39m \u001b[38;5;241m12\u001b[39m \u001b[38;5;241m+\u001b[39m df_bereinigt[\u001b[38;5;124m'\u001b[39m\u001b[38;5;124mEinzug\u001b[39m\u001b[38;5;124m'\u001b[39m]\u001b[38;5;241m.\u001b[39mdt\u001b[38;5;241m.\u001b[39mmonth\n",
      "File \u001b[1;32mc:\\Users\\Yama Saputra\\AppData\\Local\\Programs\\Python\\Python310\\lib\\site-packages\\pandas\\core\\generic.py:6299\u001b[0m, in \u001b[0;36mNDFrame.__getattr__\u001b[1;34m(self, name)\u001b[0m\n\u001b[0;32m   6292\u001b[0m \u001b[38;5;28;01mif\u001b[39;00m (\n\u001b[0;32m   6293\u001b[0m     name \u001b[38;5;129;01mnot\u001b[39;00m \u001b[38;5;129;01min\u001b[39;00m \u001b[38;5;28mself\u001b[39m\u001b[38;5;241m.\u001b[39m_internal_names_set\n\u001b[0;32m   6294\u001b[0m     \u001b[38;5;129;01mand\u001b[39;00m name \u001b[38;5;129;01mnot\u001b[39;00m \u001b[38;5;129;01min\u001b[39;00m \u001b[38;5;28mself\u001b[39m\u001b[38;5;241m.\u001b[39m_metadata\n\u001b[0;32m   6295\u001b[0m     \u001b[38;5;129;01mand\u001b[39;00m name \u001b[38;5;129;01mnot\u001b[39;00m \u001b[38;5;129;01min\u001b[39;00m \u001b[38;5;28mself\u001b[39m\u001b[38;5;241m.\u001b[39m_accessors\n\u001b[0;32m   6296\u001b[0m     \u001b[38;5;129;01mand\u001b[39;00m \u001b[38;5;28mself\u001b[39m\u001b[38;5;241m.\u001b[39m_info_axis\u001b[38;5;241m.\u001b[39m_can_hold_identifiers_and_holds_name(name)\n\u001b[0;32m   6297\u001b[0m ):\n\u001b[0;32m   6298\u001b[0m     \u001b[38;5;28;01mreturn\u001b[39;00m \u001b[38;5;28mself\u001b[39m[name]\n\u001b[1;32m-> 6299\u001b[0m \u001b[38;5;28;01mreturn\u001b[39;00m \u001b[38;5;28;43mobject\u001b[39;49m\u001b[38;5;241;43m.\u001b[39;49m\u001b[38;5;21;43m__getattribute__\u001b[39;49m\u001b[43m(\u001b[49m\u001b[38;5;28;43mself\u001b[39;49m\u001b[43m,\u001b[49m\u001b[43m \u001b[49m\u001b[43mname\u001b[49m\u001b[43m)\u001b[49m\n",
      "File \u001b[1;32mc:\\Users\\Yama Saputra\\AppData\\Local\\Programs\\Python\\Python310\\lib\\site-packages\\pandas\\core\\accessor.py:224\u001b[0m, in \u001b[0;36mCachedAccessor.__get__\u001b[1;34m(self, obj, cls)\u001b[0m\n\u001b[0;32m    221\u001b[0m \u001b[38;5;28;01mif\u001b[39;00m obj \u001b[38;5;129;01mis\u001b[39;00m \u001b[38;5;28;01mNone\u001b[39;00m:\n\u001b[0;32m    222\u001b[0m     \u001b[38;5;66;03m# we're accessing the attribute of the class, i.e., Dataset.geo\u001b[39;00m\n\u001b[0;32m    223\u001b[0m     \u001b[38;5;28;01mreturn\u001b[39;00m \u001b[38;5;28mself\u001b[39m\u001b[38;5;241m.\u001b[39m_accessor\n\u001b[1;32m--> 224\u001b[0m accessor_obj \u001b[38;5;241m=\u001b[39m \u001b[38;5;28;43mself\u001b[39;49m\u001b[38;5;241;43m.\u001b[39;49m\u001b[43m_accessor\u001b[49m\u001b[43m(\u001b[49m\u001b[43mobj\u001b[49m\u001b[43m)\u001b[49m\n\u001b[0;32m    225\u001b[0m \u001b[38;5;66;03m# Replace the property with the accessor object. Inspired by:\u001b[39;00m\n\u001b[0;32m    226\u001b[0m \u001b[38;5;66;03m# https://www.pydanny.com/cached-property.html\u001b[39;00m\n\u001b[0;32m    227\u001b[0m \u001b[38;5;66;03m# We need to use object.__setattr__ because we overwrite __setattr__ on\u001b[39;00m\n\u001b[0;32m    228\u001b[0m \u001b[38;5;66;03m# NDFrame\u001b[39;00m\n\u001b[0;32m    229\u001b[0m \u001b[38;5;28mobject\u001b[39m\u001b[38;5;241m.\u001b[39m\u001b[38;5;21m__setattr__\u001b[39m(obj, \u001b[38;5;28mself\u001b[39m\u001b[38;5;241m.\u001b[39m_name, accessor_obj)\n",
      "File \u001b[1;32mc:\\Users\\Yama Saputra\\AppData\\Local\\Programs\\Python\\Python310\\lib\\site-packages\\pandas\\core\\indexes\\accessors.py:643\u001b[0m, in \u001b[0;36mCombinedDatetimelikeProperties.__new__\u001b[1;34m(cls, data)\u001b[0m\n\u001b[0;32m    640\u001b[0m \u001b[38;5;28;01melif\u001b[39;00m \u001b[38;5;28misinstance\u001b[39m(data\u001b[38;5;241m.\u001b[39mdtype, PeriodDtype):\n\u001b[0;32m    641\u001b[0m     \u001b[38;5;28;01mreturn\u001b[39;00m PeriodProperties(data, orig)\n\u001b[1;32m--> 643\u001b[0m \u001b[38;5;28;01mraise\u001b[39;00m \u001b[38;5;167;01mAttributeError\u001b[39;00m(\u001b[38;5;124m\"\u001b[39m\u001b[38;5;124mCan only use .dt accessor with datetimelike values\u001b[39m\u001b[38;5;124m\"\u001b[39m)\n",
      "\u001b[1;31mAttributeError\u001b[0m: Can only use .dt accessor with datetimelike values"
     ]
    }
   ],
   "source": [
    "df_bereinigt.loc[:, 'Einzug'] = pd.to_datetime(df_bereinigt['Einzug'], format='%d/%m/%y')\n",
    "df_bereinigt.loc[:, 'Einzug'] = df_bereinigt['Einzug'].dt.year * 12 + df_bereinigt['Einzug'].dt.month\n"
   ]
  },
  {
   "cell_type": "code",
   "execution_count": null,
   "metadata": {},
   "outputs": [],
   "source": [
    "# Features und Zielvariable definieren\n",
    "features = [\n",
    "    'Wohngebiet', 'Geschoss', 'Wohnfläche', 'Raumanzahl', 'Dusche', 'Wanne', \n",
    "    'Aufzug', 'Balkon/Terasse', 'Einstufung Mietkosten', 'Geschlecht', \n",
    "    'Einzug', 'Altereinstufung', 'Personenanzahl', 'Haustier', 'Mahnverfahren'\n",
    "]\n",
    "ziel = 'Wohndauer in Monaten'"
   ]
  }
 ],
 "metadata": {
  "kernelspec": {
   "display_name": "Python 3",
   "language": "python",
   "name": "python3"
  },
  "language_info": {
   "codemirror_mode": {
    "name": "ipython",
    "version": 3
   },
   "file_extension": ".py",
   "mimetype": "text/x-python",
   "name": "python",
   "nbconvert_exporter": "python",
   "pygments_lexer": "ipython3",
   "version": "3.10.4"
  }
 },
 "nbformat": 4,
 "nbformat_minor": 2
}
